{
 "cells": [
  {
   "cell_type": "code",
   "execution_count": 4,
   "id": "7d0b9d46",
   "metadata": {},
   "outputs": [
    {
     "name": "stdout",
     "output_type": "stream",
     "text": [
      "The autoreload extension is already loaded. To reload it, use:\n",
      "  %reload_ext autoreload\n"
     ]
    }
   ],
   "source": [
    "%load_ext autoreload\n",
    "# Always reload modules so that as you change code in src, it gets loaded\n",
    "%autoreload 2\n",
    "%matplotlib inline\n",
    "\n",
    "import networkx as nx\n",
    "import matplotlib.pyplot as plt\n",
    "from mpl_toolkits.mplot3d import axes3d\n",
    "import pandas as pd\n",
    "import numpy as np\n",
    "import random\n",
    "import math\n",
    "import EoN\n",
    "import seaborn as sns\n",
    "import time\n",
    "\n",
    "# New Imports\n",
    "#from ctrace.contact_tracing import *\n",
    "#from ctrace.constraint import *\n",
    "#from ctrace.solve import *\n",
    "#from ctrace.simulation import *\n",
    "#from ctrace.restricted import *\n",
    "from ctrace.simulation import *\n",
    "from ctrace.recommender import *\n",
    "from ctrace.utils import *\n",
    "from ctrace.exec.param import GraphParam, SIRParam, FileParam, ParamBase, LambdaParam"
   ]
  },
  {
   "cell_type": "markdown",
   "id": "fe8da24f",
   "metadata": {},
   "source": [
    "### Setup"
   ]
  },
  {
   "cell_type": "code",
   "execution_count": 5,
   "id": "57043cb2",
   "metadata": {},
   "outputs": [],
   "source": [
    "graphs = {\n",
    "    \"montgomery\": GraphParam('montgomery').data,\n",
    "    \"cville\": GraphParam('cville').data\n",
    "}"
   ]
  },
  {
   "cell_type": "code",
   "execution_count": 7,
   "id": "9bf8bb21",
   "metadata": {},
   "outputs": [],
   "source": [
    "pd.set_option('display.max_columns', None)"
   ]
  },
  {
   "cell_type": "code",
   "execution_count": 8,
   "id": "2dd7778b",
   "metadata": {},
   "outputs": [],
   "source": [
    "OLD = 'run_3jWGp'\n",
    "NEW = 'opt_ratio_b3LY8'\n",
    "STATS = 'network_stats_bWPFr'\n",
    "RANDOM = 'opt_ratio_NQzcz'"
   ]
  },
  {
   "cell_type": "code",
   "execution_count": 9,
   "id": "f24dda71",
   "metadata": {},
   "outputs": [],
   "source": [
    "def segmented_run(run_id):\n",
    "    in_data = pd.read_csv(PROJECT_ROOT / f'output/{run_id}/input.csv')\n",
    "    out_data = pd.read_csv(PROJECT_ROOT / f'output/{run_id}/main.csv')\n",
    "    df = pd.merge(in_data, out_data, how=\"left\", on=[\"id\"])\n",
    "\n",
    "#     # Rename the labels\n",
    "#     df['agent'] = df['agent'].replace({\"segmented_greedy\": \"Segmented Degree\"})\n",
    "    df['graph'] = df['graph'].replace({'montgomery': \"Montgomery\", 'cville': \"Albemarle\"})\n",
    "    \n",
    "    return df\n",
    "\n",
    "df_opt = pd.concat([segmented_run(OLD), segmented_run(RANDOM)])\n",
    "df_opt = df_opt.drop(['is_optimal', 'total_cross_edges', 'D'], axis=1)"
   ]
  },
  {
   "cell_type": "code",
   "execution_count": 10,
   "id": "0736b774",
   "metadata": {},
   "outputs": [],
   "source": [
    "# Filter out any dropped MILP runs\n",
    "valid_caches = df_opt[df_opt['agent'] == 'MILP_fair'].dropna()['from_cache']\n",
    "valid_df = df_opt[df_opt['from_cache'].isin(valid_caches)]\n",
    "df = valid_df.copy()\n",
    "\n",
    "df = df.sort_values(by=['v2_size'])\n",
    "\n",
    "df = df[df['v1_size'] >= 1000]"
   ]
  },
  {
   "cell_type": "code",
   "execution_count": 11,
   "id": "c48e1941",
   "metadata": {},
   "outputs": [],
   "source": [
    "# Create normalize based on MILP \n",
    "cache_2_milp = {row['from_cache']: row['milp_obj'] for _, row in df[df['agent'] == 'MILP_fair'].iterrows()}\n",
    "cache_2_milp\n",
    "def normalize_milp(row):\n",
    "    if cache_2_milp[row['from_cache']] != 0:\n",
    "        return row['expected_obj'] / cache_2_milp[row['from_cache']]\n",
    "    return np.nan\n",
    "df['milp_ratio'] = df.apply(normalize_milp , axis=1)\n",
    "\n",
    "# Create ids for to split SIRs based on |V2|\n",
    "\n",
    "# Create an column that splits dataset into 4 groups"
   ]
  },
  {
   "cell_type": "code",
   "execution_count": 12,
   "id": "2715d118",
   "metadata": {},
   "outputs": [],
   "source": [
    "def splits(target, splits):\n",
    "    col = []\n",
    "    for i in range(splits - 1):\n",
    "        col += [i] * int(target / splits)\n",
    "    col += [splits - 1] * (target - len(col))\n",
    "    return col\n",
    "\n",
    "caches = df[df['agent'] == 'MILP_fair']['from_cache']\n",
    "cache_2_id = dict(zip(caches, splits(len(caches), 4)))\n",
    "df['v2_id'] = df['from_cache'].apply(lambda x: cache_2_id[x])    "
   ]
  },
  {
   "cell_type": "code",
   "execution_count": 13,
   "id": "16318a8a",
   "metadata": {
    "scrolled": true
   },
   "outputs": [],
   "source": [
    "df['agent'] = df['agent'].replace({\n",
    "    'DegGreedy_fair': \"\\DegGreedy\", \n",
    "    'DepRound_fair': \"\\DepRound\",\n",
    "    \"binary_segmented_greedy\": \"\\SegDegree\",\n",
    "    'MILP_fair': \"\\MILP\",\n",
    "    'Random': \"\\Random\",\n",
    "})\n",
    "\n",
    "df = df.rename(columns={\n",
    "    \"agent\": \"Algorithms\", \n",
    "    \"v2_id\": \"bucket\", \n",
    "    \"milp_ratio\": 'Approx. Factor', \n",
    "    'expected_obj': 'Expected Objective', \n",
    "    'time': 'Time Elapsed'\n",
    "})\n",
    "\n",
    "df = df.round({'Time Elapsed': 3, 'Expected Objective': 3, 'Approx. Factor': 3})\n",
    "\n",
    "df_stats = segmented_run(STATS)\n",
    "df_stats = df_stats[['from_cache', 'total_cross_edges', 'D']]\n",
    "df = pd.merge(df, df_stats)\n",
    "\n",
    "# Filters\n",
    "df = df[df['Approx. Factor'] >= 1]"
   ]
  },
  {
   "cell_type": "code",
   "execution_count": 14,
   "id": "2a0f4c20",
   "metadata": {},
   "outputs": [],
   "source": [
    "df[df['bucket'] == 0].to_csv('test')"
   ]
  },
  {
   "cell_type": "code",
   "execution_count": 15,
   "id": "12b23447",
   "metadata": {},
   "outputs": [
    {
     "data": {
      "text/html": [
       "<div>\n",
       "<style scoped>\n",
       "    .dataframe tbody tr th:only-of-type {\n",
       "        vertical-align: middle;\n",
       "    }\n",
       "\n",
       "    .dataframe tbody tr th {\n",
       "        vertical-align: top;\n",
       "    }\n",
       "\n",
       "    .dataframe thead th {\n",
       "        text-align: right;\n",
       "    }\n",
       "</style>\n",
       "<table border=\"1\" class=\"dataframe\">\n",
       "  <thead>\n",
       "    <tr style=\"text-align: right;\">\n",
       "      <th></th>\n",
       "      <th>id</th>\n",
       "      <th>graph</th>\n",
       "      <th>budget</th>\n",
       "      <th>Algorithms</th>\n",
       "      <th>policy</th>\n",
       "      <th>transmission_rate</th>\n",
       "      <th>transmission_known</th>\n",
       "      <th>compliance_rate</th>\n",
       "      <th>compliance_known</th>\n",
       "      <th>discovery_rate</th>\n",
       "      <th>snitch_rate</th>\n",
       "      <th>from_cache</th>\n",
       "      <th>trial_id</th>\n",
       "      <th>seed</th>\n",
       "      <th>milp_obj</th>\n",
       "      <th>Expected Objective</th>\n",
       "      <th>I_size</th>\n",
       "      <th>v1_size</th>\n",
       "      <th>v2_size</th>\n",
       "      <th>Time Elapsed</th>\n",
       "      <th>Approx. Factor</th>\n",
       "      <th>bucket</th>\n",
       "      <th>total_cross_edges</th>\n",
       "      <th>D</th>\n",
       "    </tr>\n",
       "  </thead>\n",
       "  <tbody>\n",
       "    <tr>\n",
       "      <th>0</th>\n",
       "      <td>13</td>\n",
       "      <td>Montgomery</td>\n",
       "      <td>750</td>\n",
       "      <td>\\Random</td>\n",
       "      <td>A</td>\n",
       "      <td>0.05</td>\n",
       "      <td>True</td>\n",
       "      <td>-1.0</td>\n",
       "      <td>True</td>\n",
       "      <td>1.0</td>\n",
       "      <td>1.0</td>\n",
       "      <td>mi25.json</td>\n",
       "      <td>0</td>\n",
       "      <td>64820</td>\n",
       "      <td>2.695012</td>\n",
       "      <td>2.818</td>\n",
       "      <td>228.0</td>\n",
       "      <td>1020.0</td>\n",
       "      <td>2031.0</td>\n",
       "      <td>0.001</td>\n",
       "      <td>1.618</td>\n",
       "      <td>0</td>\n",
       "      <td>2357</td>\n",
       "      <td>8</td>\n",
       "    </tr>\n",
       "    <tr>\n",
       "      <th>1</th>\n",
       "      <td>1483</td>\n",
       "      <td>Montgomery</td>\n",
       "      <td>750</td>\n",
       "      <td>\\MILP</td>\n",
       "      <td>A</td>\n",
       "      <td>0.05</td>\n",
       "      <td>False</td>\n",
       "      <td>-1.0</td>\n",
       "      <td>False</td>\n",
       "      <td>1.0</td>\n",
       "      <td>1.0</td>\n",
       "      <td>mi25.json</td>\n",
       "      <td>0</td>\n",
       "      <td>60</td>\n",
       "      <td>1.741967</td>\n",
       "      <td>1.842</td>\n",
       "      <td>228.0</td>\n",
       "      <td>1020.0</td>\n",
       "      <td>2031.0</td>\n",
       "      <td>0.135</td>\n",
       "      <td>1.058</td>\n",
       "      <td>0</td>\n",
       "      <td>2357</td>\n",
       "      <td>8</td>\n",
       "    </tr>\n",
       "    <tr>\n",
       "      <th>2</th>\n",
       "      <td>13</td>\n",
       "      <td>Montgomery</td>\n",
       "      <td>750</td>\n",
       "      <td>\\SegDegree</td>\n",
       "      <td>A</td>\n",
       "      <td>0.05</td>\n",
       "      <td>False</td>\n",
       "      <td>-1.0</td>\n",
       "      <td>False</td>\n",
       "      <td>1.0</td>\n",
       "      <td>1.0</td>\n",
       "      <td>mi25.json</td>\n",
       "      <td>0</td>\n",
       "      <td>64820</td>\n",
       "      <td>2.556380</td>\n",
       "      <td>2.668</td>\n",
       "      <td>228.0</td>\n",
       "      <td>1020.0</td>\n",
       "      <td>2031.0</td>\n",
       "      <td>0.003</td>\n",
       "      <td>1.531</td>\n",
       "      <td>0</td>\n",
       "      <td>2357</td>\n",
       "      <td>8</td>\n",
       "    </tr>\n",
       "    <tr>\n",
       "      <th>3</th>\n",
       "      <td>503</td>\n",
       "      <td>Montgomery</td>\n",
       "      <td>750</td>\n",
       "      <td>\\DegGreedy</td>\n",
       "      <td>A</td>\n",
       "      <td>0.05</td>\n",
       "      <td>False</td>\n",
       "      <td>-1.0</td>\n",
       "      <td>False</td>\n",
       "      <td>1.0</td>\n",
       "      <td>1.0</td>\n",
       "      <td>mi25.json</td>\n",
       "      <td>0</td>\n",
       "      <td>60403</td>\n",
       "      <td>1.658124</td>\n",
       "      <td>1.754</td>\n",
       "      <td>228.0</td>\n",
       "      <td>1020.0</td>\n",
       "      <td>2031.0</td>\n",
       "      <td>0.060</td>\n",
       "      <td>1.007</td>\n",
       "      <td>0</td>\n",
       "      <td>2357</td>\n",
       "      <td>8</td>\n",
       "    </tr>\n",
       "    <tr>\n",
       "      <th>4</th>\n",
       "      <td>993</td>\n",
       "      <td>Montgomery</td>\n",
       "      <td>750</td>\n",
       "      <td>\\DepRound</td>\n",
       "      <td>A</td>\n",
       "      <td>0.05</td>\n",
       "      <td>False</td>\n",
       "      <td>-1.0</td>\n",
       "      <td>False</td>\n",
       "      <td>1.0</td>\n",
       "      <td>1.0</td>\n",
       "      <td>mi25.json</td>\n",
       "      <td>0</td>\n",
       "      <td>23275</td>\n",
       "      <td>1.757369</td>\n",
       "      <td>1.863</td>\n",
       "      <td>228.0</td>\n",
       "      <td>1020.0</td>\n",
       "      <td>2031.0</td>\n",
       "      <td>0.168</td>\n",
       "      <td>1.069</td>\n",
       "      <td>0</td>\n",
       "      <td>2357</td>\n",
       "      <td>8</td>\n",
       "    </tr>\n",
       "  </tbody>\n",
       "</table>\n",
       "</div>"
      ],
      "text/plain": [
       "     id       graph  budget  Algorithms policy  transmission_rate  \\\n",
       "0    13  Montgomery     750     \\Random      A               0.05   \n",
       "1  1483  Montgomery     750       \\MILP      A               0.05   \n",
       "2    13  Montgomery     750  \\SegDegree      A               0.05   \n",
       "3   503  Montgomery     750  \\DegGreedy      A               0.05   \n",
       "4   993  Montgomery     750   \\DepRound      A               0.05   \n",
       "\n",
       "   transmission_known  compliance_rate  compliance_known  discovery_rate  \\\n",
       "0                True             -1.0              True             1.0   \n",
       "1               False             -1.0             False             1.0   \n",
       "2               False             -1.0             False             1.0   \n",
       "3               False             -1.0             False             1.0   \n",
       "4               False             -1.0             False             1.0   \n",
       "\n",
       "   snitch_rate from_cache  trial_id   seed  milp_obj  Expected Objective  \\\n",
       "0          1.0  mi25.json         0  64820  2.695012               2.818   \n",
       "1          1.0  mi25.json         0     60  1.741967               1.842   \n",
       "2          1.0  mi25.json         0  64820  2.556380               2.668   \n",
       "3          1.0  mi25.json         0  60403  1.658124               1.754   \n",
       "4          1.0  mi25.json         0  23275  1.757369               1.863   \n",
       "\n",
       "   I_size  v1_size  v2_size  Time Elapsed  Approx. Factor  bucket  \\\n",
       "0   228.0   1020.0   2031.0         0.001           1.618       0   \n",
       "1   228.0   1020.0   2031.0         0.135           1.058       0   \n",
       "2   228.0   1020.0   2031.0         0.003           1.531       0   \n",
       "3   228.0   1020.0   2031.0         0.060           1.007       0   \n",
       "4   228.0   1020.0   2031.0         0.168           1.069       0   \n",
       "\n",
       "   total_cross_edges  D  \n",
       "0               2357  8  \n",
       "1               2357  8  \n",
       "2               2357  8  \n",
       "3               2357  8  \n",
       "4               2357  8  "
      ]
     },
     "execution_count": 15,
     "metadata": {},
     "output_type": "execute_result"
    }
   ],
   "source": [
    "df.head()"
   ]
  },
  {
   "cell_type": "code",
   "execution_count": 16,
   "id": "f9e2b575",
   "metadata": {
    "scrolled": true
   },
   "outputs": [
    {
     "data": {
      "text/plain": [
       "Montgomery    302\n",
       "Albemarle     270\n",
       "Name: graph, dtype: int64"
      ]
     },
     "execution_count": 16,
     "metadata": {},
     "output_type": "execute_result"
    }
   ],
   "source": [
    "df[df['Algorithms'] == '\\MILP']['graph'].value_counts()"
   ]
  },
  {
   "cell_type": "markdown",
   "id": "4800aea8",
   "metadata": {},
   "source": [
    "### Tables"
   ]
  },
  {
   "cell_type": "code",
   "execution_count": 17,
   "id": "31d869fa",
   "metadata": {},
   "outputs": [
    {
     "name": "stdout",
     "output_type": "stream",
     "text": [
      "\\begin{tabular}{lrrrrrrrr}\n",
      "\\toprule\n",
      "graph & \\multicolumn{4}{l}{Albemarle} & \\multicolumn{4}{l}{Montgomery} \\\\\n",
      "bucket &         0 &      1 &      2 &       3 &          0 &      1 &      2 &       3 \\\\\n",
      "\\midrule\n",
      "$I~(\\times 10^3)$                       &      0.36 &   2.89 &   7.46 &    3.84 &       1.60 &   4.03 &   1.77 &    0.99 \\\\\n",
      "$|V_1|~(\\times 10^3)$                   &      2.06 &  13.72 &  35.01 &   32.79 &       6.30 &  20.13 &  17.21 &   13.97 \\\\\n",
      "$|V_2|(\\times 10^3)$                    &      8.97 &  20.40 &  25.82 &   57.52 &       8.19 &  17.24 &  28.88 &   37.93 \\\\\n",
      "$|(V_1\\times V_2)\\cap E|~(\\times 10^3)$ &     11.82 &  45.68 &  90.73 &  298.70 &      12.76 &  44.52 &  91.63 &  123.52 \\\\\n",
      "$D$                                     &      7.37 &  17.20 &  32.27 &   72.79 &      12.85 &  27.69 &  37.96 &   41.06 \\\\\n",
      "\\bottomrule\n",
      "\\end{tabular}\n",
      "\n"
     ]
    }
   ],
   "source": [
    "net_stats = df.groupby(['graph', 'bucket'])[['I_size','v1_size','v2_size', 'total_cross_edges', 'D']].agg(['mean'])\n",
    "net_stats.columns = pd.Index(['I_size','v1_size','v2_size', 'total_cross_edges', 'D'])\n",
    "\n",
    "net_stats['I_size'] *= 0.1 ** 3\n",
    "net_stats['v1_size'] *= 0.1 ** 3\n",
    "net_stats['v2_size'] *= 0.1 ** 3\n",
    "net_stats['total_cross_edges'] *= 0.1 ** 3\n",
    "\n",
    "net_stats = net_stats.round({\n",
    "    \"I_size\": 2, \n",
    "    \"v1_size\": 2, \n",
    "    \"v2_size\": 2,\n",
    "    'total_cross_edges': 2, \n",
    "    \"D\": 2\n",
    "})\n",
    "\n",
    "net_stats = net_stats.rename(columns={\n",
    "    \"I_size\": \"$I~(\\times 10^3)$\", \n",
    "    \"v1_size\": \"$|V_1|~(\\times 10^3)$\", \n",
    "    \"v2_size\": '$|V_2|(\\times 10^3)$', \n",
    "    'total_cross_edges': '$|(V_1\\times V_2)\\cap E|~(\\times 10^3)$', \n",
    "    'D': '$D$'\n",
    "})\n",
    "\n",
    "net_stats = net_stats.T\n",
    "\n",
    "print(net_stats.to_latex(escape=False))\n",
    "# net_stats"
   ]
  },
  {
   "cell_type": "code",
   "execution_count": 18,
   "id": "0c017bab",
   "metadata": {
    "scrolled": true
   },
   "outputs": [
    {
     "data": {
      "text/plain": [
       "750     1442\n",
       "1350    1298\n",
       "Name: budget, dtype: int64"
      ]
     },
     "execution_count": 18,
     "metadata": {},
     "output_type": "execute_result"
    }
   ],
   "source": [
    "df['budget'].value_counts()"
   ]
  },
  {
   "cell_type": "code",
   "execution_count": 19,
   "id": "deb42e38",
   "metadata": {},
   "outputs": [
    {
     "name": "stdout",
     "output_type": "stream",
     "text": [
      "\\begin{tabular}{lllrrrr}\n",
      "\\toprule\n",
      "        &              & bucket &        0 &        1 &        2 &        3 \\\\\n",
      "Algorithms & {} & {} &          &          &          &          \\\\\n",
      "\\midrule\n",
      "\\DegGreedy & Approx. Factor & max &    1.229 &    1.670 &    1.771 &    1.724 \\\\\n",
      "        &              & mean &    1.102 &    1.380 &    1.435 &    1.470 \\\\\n",
      "        & Expected Objective & max &   88.277 &  359.140 &  468.610 &  463.584 \\\\\n",
      "        &              & mean &   43.646 &  179.045 &  279.208 &  320.838 \\\\\n",
      "        & Time Elapsed & max &    1.887 &    6.654 &    4.172 &    1.768 \\\\\n",
      "        &              & mean &    0.865 &    4.270 &    1.525 &    0.666 \\\\\n",
      "\\DepRound & Approx. Factor & max &    1.362 &    1.796 &    1.915 &    1.871 \\\\\n",
      "        &              & mean &    1.169 &    1.479 &    1.631 &    1.663 \\\\\n",
      "        & Expected Objective & max &   97.847 &  385.880 &  510.295 &  503.374 \\\\\n",
      "        &              & mean &   28.896 &  176.463 &  308.454 &  360.564 \\\\\n",
      "        & Time Elapsed & max &    5.337 &   18.495 &   14.893 &   27.754 \\\\\n",
      "        &              & mean &    1.383 &    7.093 &    7.161 &    8.858 \\\\\n",
      "\\SegDegree & Approx. Factor & max &    1.777 &    1.918 &    2.039 &    1.994 \\\\\n",
      "        &              & mean &    1.484 &    1.656 &    1.762 &    1.793 \\\\\n",
      "        & Expected Objective & max &  111.320 &  412.532 &  543.544 &  538.129 \\\\\n",
      "        &              & mean &   34.324 &  192.704 &  330.943 &  388.369 \\\\\n",
      "        & Time Elapsed & max &    0.036 &    0.112 &    0.743 &    0.093 \\\\\n",
      "        &              & mean &    0.014 &    0.046 &    0.051 &    0.032 \\\\\n",
      "\\Random & Approx. Factor & max &    2.055 &    2.033 &    2.084 &    2.052 \\\\\n",
      "        &              & mean &    1.631 &    1.779 &    1.896 &    1.879 \\\\\n",
      "        & Expected Objective & max &  114.240 &  419.796 &  558.155 &  550.743 \\\\\n",
      "        &              & mean &   36.519 &  199.240 &  345.477 &  405.352 \\\\\n",
      "        & Time Elapsed & max &    0.002 &    0.003 &    0.003 &    0.002 \\\\\n",
      "        &              & mean &    0.001 &    0.001 &    0.001 &    0.001 \\\\\n",
      "\\bottomrule\n",
      "\\end{tabular}\n",
      "\n"
     ]
    }
   ],
   "source": [
    "dp = pd.pivot_table(df[df['graph'] == 'Montgomery'].dropna(), values=[\"Approx. Factor\", 'Expected Objective', 'Time Elapsed'], index=[\"Algorithms\"], columns=[\"bucket\"], aggfunc=[\"mean\", \"max\"])\n",
    "\n",
    "dp = dp.stack(0).stack(0)\n",
    "dp = dp.sort_index(1)\n",
    "dp = dp.reorder_levels([0, 2, 1], 0)\n",
    "dp = dp.sort_index(axis=0)\n",
    "dp = np.round(dp, 3)\n",
    "# Reorder and omit \\MILP\n",
    "dp = dp.reindex(axis='index', level=0, labels=[\"\\DegGreedy\", \"\\DepRound\", \"\\SegDegree\", \"\\Random\"])\n",
    "# dp\n",
    "print(dp.to_latex(escape=False))\n"
   ]
  },
  {
   "cell_type": "code",
   "execution_count": 20,
   "id": "ce32120c",
   "metadata": {},
   "outputs": [
    {
     "name": "stdout",
     "output_type": "stream",
     "text": [
      "\\begin{tabular}{lllrrrr}\n",
      "\\toprule\n",
      "        &              & bucket &       0 &        1 &        2 &         3 \\\\\n",
      "Algorithms & {} & {} &         &          &          &           \\\\\n",
      "\\midrule\n",
      "\\DegGreedy & Approx. Factor & max &   1.086 &    2.173 &    2.061 &     2.550 \\\\\n",
      "        &              & mean &   1.068 &    1.271 &    1.513 &     2.033 \\\\\n",
      "        & Expected Objective & max &   3.376 &  228.197 &  737.917 &  1595.941 \\\\\n",
      "        &              & mean &   2.573 &   98.606 &  278.710 &  1011.633 \\\\\n",
      "        & Time Elapsed & max &   0.106 &   11.560 &   19.914 &    18.356 \\\\\n",
      "        &              & mean &   0.101 &    3.861 &    9.996 &     6.607 \\\\\n",
      "\\DepRound & Approx. Factor & max &   1.129 &    2.173 &    3.091 &     2.803 \\\\\n",
      "        &              & mean &   1.091 &    1.321 &    1.638 &     2.182 \\\\\n",
      "        & Expected Objective & max &  13.494 &  238.762 &  750.141 &  1639.357 \\\\\n",
      "        &              & mean &   6.564 &   72.362 &  291.681 &  1058.894 \\\\\n",
      "        & Time Elapsed & max &   6.610 &  153.246 &  296.449 &  1328.052 \\\\\n",
      "        &              & mean &   2.231 &   23.178 &   72.142 &   344.155 \\\\\n",
      "\\SegDegree & Approx. Factor & max &   1.401 &    2.173 &    2.942 &     2.878 \\\\\n",
      "        &              & mean &   1.280 &    1.434 &    1.743 &     2.273 \\\\\n",
      "        & Expected Objective & max &  15.631 &  254.346 &  796.446 &  1683.942 \\\\\n",
      "        &              & mean &   7.817 &   77.785 &  311.635 &  1113.670 \\\\\n",
      "        & Time Elapsed & max &   0.008 &    0.093 &    0.184 &     0.167 \\\\\n",
      "        &              & mean &   0.005 &    0.030 &    0.084 &     0.077 \\\\\n",
      "\\Random & Approx. Factor & max &   1.491 &    2.173 &    3.176 &     2.937 \\\\\n",
      "        &              & mean &   1.301 &    1.467 &    1.771 &     2.318 \\\\\n",
      "        & Expected Objective & max &  15.902 &  257.970 &  803.160 &  1700.213 \\\\\n",
      "        &              & mean &   7.963 &   79.242 &  315.709 &  1132.019 \\\\\n",
      "        & Time Elapsed & max &   0.001 &    0.003 &    0.005 &     0.004 \\\\\n",
      "        &              & mean &   0.001 &    0.001 &    0.003 &     0.002 \\\\\n",
      "\\bottomrule\n",
      "\\end{tabular}\n",
      "\n"
     ]
    }
   ],
   "source": [
    "dp = pd.pivot_table(df[df['graph'] == 'Albemarle'].dropna(), values=[\"Approx. Factor\", 'Expected Objective', 'Time Elapsed'], index=[\"Algorithms\"], columns=[\"bucket\"], aggfunc=[\"mean\", \"max\"])\n",
    "\n",
    "dp = dp.stack(0).stack(0)\n",
    "dp = dp.sort_index(1)\n",
    "dp = dp.reorder_levels([0, 2, 1], 0)\n",
    "dp = dp.sort_index(axis=0)\n",
    "dp = np.round(dp, 3)\n",
    "dp = dp.reindex(axis='index', level=0, labels=[\"\\DegGreedy\", \"\\DepRound\", \"\\SegDegree\", \"\\Random\"])\n",
    "# dp\n",
    "print(dp.to_latex(escape=False))"
   ]
  }
 ],
 "metadata": {
  "kernelspec": {
   "display_name": "Python 3",
   "language": "python",
   "name": "python3"
  },
  "language_info": {
   "codemirror_mode": {
    "name": "ipython",
    "version": 3
   },
   "file_extension": ".py",
   "mimetype": "text/x-python",
   "name": "python",
   "nbconvert_exporter": "python",
   "pygments_lexer": "ipython3",
   "version": "3.9.4"
  }
 },
 "nbformat": 4,
 "nbformat_minor": 5
}
